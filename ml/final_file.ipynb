{
 "cells": [
  {
   "cell_type": "code",
   "execution_count": 6,
   "metadata": {},
   "outputs": [],
   "source": [
    "from tensorflow.keras.layers import Conv2D, MaxPool2D, Flatten, InputLayer, BatchNormalization, Dense, Dropout\n",
    "from tensorflow import lite\n",
    "from tensorflow.keras.models import Sequential\n",
    "from tensorflow.keras.losses import categorical_crossentropy"
   ]
  },
  {
   "cell_type": "code",
   "execution_count": 7,
   "metadata": {},
   "outputs": [],
   "source": [
    "def build_model(weights_path):\n",
    "    model_resnet=tf.keras.applications.MobileNetV2(\n",
    "        include_top=False, weights='imagenet', input_tensor=None,\n",
    "        input_shape=(224, 224, 3), pooling=None, \n",
    "    )\n",
    "    flat = tf.keras.layers.GlobalAveragePooling2D()(model_resnet.layers[-1].output)\n",
    "    d1 = Dense(units=512, activation='relu')(flat)\n",
    "    d1 = Dense(units=126, activation='relu')(d1)\n",
    "    d2 = Dense(units=3, activation='softmax')(d1)\n",
    "    from tensorflow.keras import Model    \n",
    "    model=Model(inputs=model_resnet.inputs,outputs=d2)\n",
    "    # model.summary()\n",
    "    from tensorflow.keras.optimizers import Adam\n",
    "    optimizer=Adam(learning_rate=0.0001)\n",
    "    model.compile(optimizer=optimizer,\n",
    "                  loss='categorical_crossentropy',\n",
    "                  metrics=['accuracy'])\n",
    "#     model.summary()\n",
    "    model.load_weights(weights_path)\n",
    "    return model"
   ]
  },
  {
   "cell_type": "code",
   "execution_count": 8,
   "metadata": {},
   "outputs": [],
   "source": [
    "import cv2\n",
    "import numpy as np\n",
    "import os\n",
    "import matplotlib.pyplot as plt\n",
    "import tensorflow as tf"
   ]
  },
  {
   "cell_type": "code",
   "execution_count": 9,
   "metadata": {},
   "outputs": [],
   "source": [
    "class get_model():\n",
    "    def __init__(self,weights_path):\n",
    "        self.model = build_model(weights_path)\n",
    "        \n",
    "    \n",
    "    def predict(self, frame):\n",
    "        outputs  = [\"sideway\", \"attentive\", \"yawing\"]\n",
    "        frame = cv2.resize(frame, (224,224))/255.0\n",
    "        frame = np.expand_dims(frame, axis =0)\n",
    "        output = self.model.predict(frame)\n",
    "        index = np.argmax(output)\n",
    "        attentive_score = output[0][1]\n",
    "        return outputs[index],attentive_score\n",
    "        "
   ]
  },
  {
   "cell_type": "code",
   "execution_count": 10,
   "metadata": {},
   "outputs": [],
   "source": [
    "final_model = get_model(\"hackethernet.h5\")"
   ]
  },
  {
   "cell_type": "code",
   "execution_count": 12,
   "metadata": {},
   "outputs": [],
   "source": [
    "img = cv2.imread(\"side.jpeg\")\n",
    "output = final_model.predict(img)\n"
   ]
  },
  {
   "cell_type": "code",
   "execution_count": 13,
   "metadata": {},
   "outputs": [
    {
     "name": "stdout",
     "output_type": "stream",
     "text": [
      "('sideway', 0.0020942653)\n"
     ]
    }
   ],
   "source": [
    "print(output)"
   ]
  },
  {
   "cell_type": "code",
   "execution_count": 41,
   "metadata": {},
   "outputs": [
    {
     "name": "stdout",
     "output_type": "stream",
     "text": [
      "C:\\Users\\PANKAJ\\Documents\\sign_language\n"
     ]
    }
   ],
   "source": [
    " print(os.getcwd())"
   ]
  },
  {
   "cell_type": "code",
   "execution_count": null,
   "metadata": {},
   "outputs": [],
   "source": []
  }
 ],
 "metadata": {
  "kernelspec": {
   "display_name": "Python 3",
   "language": "python",
   "name": "python3"
  },
  "language_info": {
   "codemirror_mode": {
    "name": "ipython",
    "version": 3
   },
   "file_extension": ".py",
   "mimetype": "text/x-python",
   "name": "python",
   "nbconvert_exporter": "python",
   "pygments_lexer": "ipython3",
   "version": "3.8.3"
  }
 },
 "nbformat": 4,
 "nbformat_minor": 4
}
