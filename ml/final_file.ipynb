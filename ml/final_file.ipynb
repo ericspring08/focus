{
 "cells": [
  {
   "cell_type": "code",
   "execution_count": 10,
   "metadata": {},
   "outputs": [],
   "source": [
    "from tensorflow.keras.layers import Conv2D, MaxPool2D, Flatten, InputLayer, BatchNormalization, Dense, Dropout\n",
    "from tensorflow import lite\n",
    "from tensorflow.keras.models import Sequential\n",
    "from tensorflow.keras.losses import categorical_crossentropy"
   ]
  },
  {
   "cell_type": "code",
   "execution_count": 11,
   "metadata": {},
   "outputs": [],
   "source": [
    "def build_model(weights_path):\n",
    "    model_resnet=tf.keras.applications.MobileNetV2(\n",
    "        include_top=False, weights='imagenet', input_tensor=None,\n",
    "        input_shape=(224, 224, 3), pooling=None, \n",
    "    )\n",
    "    flat = tf.keras.layers.GlobalAveragePooling2D()(model_resnet.layers[-1].output)\n",
    "    d1 = Dense(units=512, activation='relu')(flat)\n",
    "    d1 = Dense(units=126, activation='relu')(d1)\n",
    "    d2 = Dense(units=3, activation='softmax')(d1)\n",
    "    from tensorflow.keras import Model    \n",
    "    model=Model(inputs=model_resnet.inputs,outputs=d2)\n",
    "    # model.summary()\n",
    "    from tensorflow.keras.optimizers import Adam\n",
    "    optimizer=Adam(learning_rate=0.0001)\n",
    "    model.compile(optimizer=optimizer,\n",
    "                  loss='categorical_crossentropy',\n",
    "                  metrics=['accuracy'])\n",
    "#     model.summary()\n",
    "    model.load_weights(weights_path)\n",
    "    return model"
   ]
  },
  {
   "cell_type": "code",
   "execution_count": 12,
   "metadata": {},
   "outputs": [],
   "source": [
    "def eyes(faceCascade, eyeCascade):\n",
    "\n",
    "    frame = cv2.cvtColor(img, cv2.COLOR_BGR2GRAY)\n",
    "    # Detect faces in the image\n",
    "    faces = faceCascade.detectMultiScale(\n",
    "        frame,\n",
    "        scaleFactor=1.1,\n",
    "        minNeighbors=5,\n",
    "        minSize=(30, 30),\n",
    "        # flags = cv2.CV_HAAR_SCALE_IMAGE\n",
    "    )\n",
    "    # print(\"Found {0} faces!\".format(len(faces)))\n",
    "    if len(faces) > 0:\n",
    "        # Draw a rectangle around the faces\n",
    "        for (x, y, w, h) in faces:\n",
    "            cv2.rectangle(img, (x, y), (x + w, y + h), (0, 255, 0), 2)\n",
    "        frame_tmp = img[faces[0][1]:faces[0][1] + faces[0]\n",
    "                        [3], faces[0][0]:faces[0][0] + faces[0][2]:1, :]\n",
    "        frame = frame[faces[0][1]:faces[0][1] + faces[0]\n",
    "                      [3], faces[0][0]:faces[0][0] + faces[0][2]:1]\n",
    "        eyes = eyeCascade.detectMultiScale(\n",
    "            frame,\n",
    "            scaleFactor=1.1,\n",
    "            minNeighbors=5,\n",
    "            minSize=(30, 30),\n",
    "            # flags = cv2.CV_HAAR_SCALE_IMAGE\n",
    "        )\n",
    "        if len(eyes) == 0:\n",
    "            return \"sleepy\"\n",
    "    return \"not_sleepy\"\n",
    "        \n"
   ]
  },
  {
   "cell_type": "code",
   "execution_count": null,
   "metadata": {},
   "outputs": [],
   "source": []
  },
  {
   "cell_type": "code",
   "execution_count": 13,
   "metadata": {},
   "outputs": [],
   "source": [
    "import cv2\n",
    "import numpy as np\n",
    "import os\n",
    "import matplotlib.pyplot as plt\n",
    "import tensorflow as tf"
   ]
  },
  {
   "cell_type": "code",
   "execution_count": null,
   "metadata": {},
   "outputs": [],
   "source": []
  },
  {
   "cell_type": "code",
   "execution_count": 14,
   "metadata": {},
   "outputs": [],
   "source": [
    "class get_model():\n",
    "    def __init__(self,weights_path):\n",
    "        self.model = build_model(weights_path)\n",
    "        self.faceCascade = cv2.CascadeClassifier('haarcascade_frontalface_alt.xml')\n",
    "        self.eyeCascade = cv2.CascadeClassifier('haarcascade_eye_tree_eyeglasses.xml')\n",
    "        \n",
    "    \n",
    "    def predict(self, frame):\n",
    "        outputs  = [\"sideway\", \"attentive\", \"yawing\"]\n",
    "        frame = cv2.resize(frame, (224,224))/255.0\n",
    "        frame = np.expand_dims(frame, axis =0)\n",
    "        output = self.model.predict(frame)\n",
    "        index = np.argmax(output)\n",
    "        attentive_score = output[0][1]\n",
    "        sleepy_behaviour = eyes(self.faceCascade, self.eyeCascade)\n",
    "        return outputs[index],attentive_score, sleepy_behaviour\n",
    "        "
   ]
  },
  {
   "cell_type": "code",
   "execution_count": 15,
   "metadata": {},
   "outputs": [],
   "source": [
    "final_model = get_model(\"hackethernet.h5\", )"
   ]
  },
  {
   "cell_type": "code",
   "execution_count": 8,
   "metadata": {},
   "outputs": [],
   "source": [
    "img = cv2.imread(\"side.jpeg\")\n",
    "output = final_model.predict(img)\n"
   ]
  },
  {
   "cell_type": "code",
   "execution_count": 9,
   "metadata": {},
   "outputs": [
    {
     "name": "stdout",
     "output_type": "stream",
     "text": [
      "('sideway', 0.0020942653, 'sleepy')\n"
     ]
    }
   ],
   "source": [
    "print(output)"
   ]
  },
  {
   "cell_type": "code",
   "execution_count": 41,
   "metadata": {},
   "outputs": [
    {
     "name": "stdout",
     "output_type": "stream",
     "text": [
      "C:\\Users\\PANKAJ\\Documents\\sign_language\n"
     ]
    }
   ],
   "source": [
    " print(os.getcwd())"
   ]
  },
  {
   "cell_type": "code",
   "execution_count": null,
   "metadata": {},
   "outputs": [],
   "source": [
    "import cv2\n",
    "eye_cascPath = 'haarcascade_eye_tree_eyeglasses.xml'  # eye detect model\n",
    "face_cascPath = 'haarcascade_frontalface_alt.xml'  # face detect model\n",
    "faceCascade = cv2.CascadeClassifier(face_cascPath)\n",
    "eyeCascade = cv2.CascadeClassifier(eye_cascPath)\n",
    "img = cv2.imread(\"front.jpeg\")\n",
    "\n",
    "frame = cv2.cvtColor(img, cv2.COLOR_BGR2GRAY)\n",
    "# Detect faces in the image\n",
    "faces = faceCascade.detectMultiScale(\n",
    "    frame,\n",
    "    scaleFactor=1.1,\n",
    "    minNeighbors=5,\n",
    "    minSize=(30, 30),\n",
    "    # flags = cv2.CV_HAAR_SCALE_IMAGE\n",
    ")\n",
    "# print(\"Found {0} faces!\".format(len(faces)))\n",
    "if len(faces) > 0:\n",
    "    # Draw a rectangle around the faces\n",
    "    for (x, y, w, h) in faces:\n",
    "        cv2.rectangle(img, (x, y), (x + w, y + h), (0, 255, 0), 2)\n",
    "    frame_tmp = img[faces[0][1]:faces[0][1] + faces[0]\n",
    "                    [3], faces[0][0]:faces[0][0] + faces[0][2]:1, :]\n",
    "    frame = frame[faces[0][1]:faces[0][1] + faces[0]\n",
    "                  [3], faces[0][0]:faces[0][0] + faces[0][2]:1]\n",
    "    eyes = eyeCascade.detectMultiScale(\n",
    "        frame,\n",
    "        scaleFactor=1.1,\n",
    "        minNeighbors=5,\n",
    "        minSize=(30, 30),\n",
    "        # flags = cv2.CV_HAAR_SCALE_IMAGE\n",
    "    )\n",
    "    if len(eyes) == 0:\n",
    "        sleepy = True\n",
    "    frame_tmp = cv2.resize(frame_tmp, (400, 400),\n",
    "                           interpolation=cv2.INTER_LINEAR)\n",
    "    cv2.imshow('Face Recognition', frame_tmp)\n",
    "cv2.waitKey(0)\n"
   ]
  }
 ],
 "metadata": {
  "kernelspec": {
   "display_name": "Python 3",
   "language": "python",
   "name": "python3"
  },
  "language_info": {
   "codemirror_mode": {
    "name": "ipython",
    "version": 3
   },
   "file_extension": ".py",
   "mimetype": "text/x-python",
   "name": "python",
   "nbconvert_exporter": "python",
   "pygments_lexer": "ipython3",
   "version": "3.8.3"
  }
 },
 "nbformat": 4,
 "nbformat_minor": 4
}
